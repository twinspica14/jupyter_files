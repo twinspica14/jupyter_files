{
 "cells": [
  {
   "cell_type": "code",
   "execution_count": 76,
   "metadata": {
    "collapsed": false
   },
   "outputs": [
    {
     "name": "stdout",
     "output_type": "stream",
     "text": [
      "0.00040333338438358624\n",
      "started at17:28:16\n",
      "ended at17:28:16\n",
      "[[ 7  8]\n",
      " [ 9 10]\n",
      " [11 12]][[1 2 3]\n",
      " [4 5 6]]\n"
     ]
    }
   ],
   "source": [
    "import numpy as np\n",
    "import time as tm\n",
    "start = tm.perf_counter()\n",
    "a1 = tm.localtime()\n",
    "b = np.array([1,2,3,4])\n",
    "a  = np.array([[1,2,2,3],[2,2,2,2]])# don't use extra space between two rows\n",
    "a\n",
    "end = tm.perf_counter()\n",
    "time_left = end - start\n",
    "print(time_left)\n",
    "b1 = tm.localtime()\n",
    "print(\"started at\" + tm.strftime(\"%X\", a1))\n",
    "print(\"ended at\" + tm.strftime(\"%X\", b1))\n",
    "\n",
    "\n",
    "_a = np.array([[1,2,3],[4,5,6]])\n",
    "_b = np.array([[7,8], [9,10], [11,12]])\n",
    "\n",
    "print(_b, end=\"\")\n",
    "print(_a)\n",
    "#print(_a*_b) #it's wrong because it's array not matrix, according to operation\n",
    "#it's type of object is usaully decided \n",
    "\n",
    "#even if array is formed, it doesn't follows matrix law"
   ]
  },
  {
   "cell_type": "code",
   "execution_count": null,
   "metadata": {
    "collapsed": true
   },
   "outputs": [],
   "source": [
    "# we use dtype method to find it's type\n",
    "# we can make I matrix not array by using np.eye(n), np.arange(n1,n2,step) to create array single dimensional\n",
    "# np.linspace(n1,n2,space) creates equal space among them, also has n1 and n2\n",
    "\n",
    "\n",
    "_d = np.dot(_a,_b)# matrix multiplication\n",
    "print(_d)\n",
    "\n",
    "\n",
    "\n"
   ]
  },
  {
   "cell_type": "code",
   "execution_count": null,
   "metadata": {
    "collapsed": true
   },
   "outputs": [],
   "source": [
    "\n",
    "\n"
   ]
  },
  {
   "cell_type": "code",
   "execution_count": null,
   "metadata": {
    "collapsed": true
   },
   "outputs": [],
   "source": []
  }
 ],
 "metadata": {
  "kernelspec": {
   "display_name": "Python 3",
   "language": "python",
   "name": "python3"
  },
  "language_info": {
   "codemirror_mode": {
    "name": "ipython",
    "version": 3
   },
   "file_extension": ".py",
   "mimetype": "text/x-python",
   "name": "python",
   "nbconvert_exporter": "python",
   "pygments_lexer": "ipython3",
   "version": "3.6.0"
  }
 },
 "nbformat": 4,
 "nbformat_minor": 2
}
