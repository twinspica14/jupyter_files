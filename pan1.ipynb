{
 "cells": [
  {
   "cell_type": "markdown",
   "metadata": {},
   "source": [
    "## we will start with pandas\n",
    "#we will start with series, and dataframes, and learn about more as we go on"
   ]
  },
  {
   "cell_type": "code",
   "execution_count": 1,
   "metadata": {
    "collapsed": false
   },
   "outputs": [
    {
     "name": "stdout",
     "output_type": "stream",
     "text": [
      "one      1\n",
      "two      2\n",
      "Three    3\n",
      "Four     4\n",
      "Five     5\n",
      "dtype: int64\n",
      "[1 2 3 4 5]\n",
      "Index(['one', 'two', 'Three', 'Four', 'Five'], dtype='object')\n",
      "{'one': 1, 'two': 2, 'Three': 3, 'Four': 4, 'Five': 5}\n",
      "Five     NaN\n",
      "Four     NaN\n",
      "Three    NaN\n",
      "Two      NaN\n",
      "one      8.0\n",
      "two      NaN\n",
      "dtype: float64\n",
      "sanji\n",
      "one      1\n",
      "two      2\n",
      "Three    3\n",
      "Four     4\n",
      "Five     5\n",
      "Name: Holla, dtype: int64\n"
     ]
    }
   ],
   "source": [
    "import numpy as np #since numpy is core library\n",
    "import pandas as pd\n",
    "from pandas import Series, DataFrame\n",
    "#series is like dicitonary, so it's possible to interconvert both of them\n",
    "a = Series([1,2,3,4,5],index=[\"one\",\"two\",\"Three\",\"Four\",\"Five\"])\n",
    "#one part is values and another is index\n",
    "print(a)\n",
    "#we can access only values and index, by calling as method\n",
    "print(a.values)\n",
    "print(a.index)\n",
    "#to conver a dic to Series and vice versa\n",
    "b = a.to_dict()\n",
    "print(b)\n",
    "c = Series([7], index=[\"one\",\"Two\"])\n",
    "#value cannot be more than index, if index is provided\n",
    "d = a + c\n",
    "print(d)\n",
    "#another thing is Series has a name other than object name\n",
    "a.name = \"Holla\" #this are methods, It always in last \n",
    "a.index.name = \"sanji\" #this are methods, and It's not applicable for values\n",
    "print(a)"
   ]
  },
  {
   "cell_type": "code",
   "execution_count": null,
   "metadata": {
    "collapsed": false
   },
   "outputs": [],
   "source": [
    "## Operations on dataframes and understanding\n",
    "fra = pd.read_clipboard()\n",
    "#print(fra) #print formats object as string to display, so it may lose some fatures\n",
    "\n",
    "print(fra.Won)#we can use dot method or list method, better use list method to access data column\n",
    "\n",
    "#so data frame is like spread sheet with columns indicating name of that coloumn\n",
    "#we cannot have paragraph as data frame till i have learned.\n",
    "#we want to grab multiple column from dataframe\n",
    "##########****DataFrame(data_obj,columns=[\"c1\",\"c2\"]) it will grab only this column\n",
    "fra.head(2)# dataframe_obj.head(n) displays rows from start\n",
    "fra.tail(2)#from last\n",
    "fra.ix[3] #index pre assigned number by pandas starting from 0\n",
    "fra[\"Rank\"] # this is row we access each column head values\n",
    "fra[\"Birth\"] = np.array([22,23,1,3,4,8,9]) #This way we can add one more column\n",
    "print(fra)\n",
    "#series have default index of 0..N so does dataframes, SO we can add series to data frames\n",
    "# lets say dataframes as column named color, and series has yeloow, blue with index 0,1\n",
    "lol = Series([\"Red\",\"Blue\"], index=[2,5])\n",
    "print(lol)\n",
    "fra['color'] = lol\n",
    "print(\"{}\".format(fra),end=\"\")\n",
    "#we can delete particular column by ### del dataframe_object[\"column_name]"
   ]
  },
  {
   "cell_type": "code",
   "execution_count": 20,
   "metadata": {
    "collapsed": false
   },
   "outputs": [
    {
     "name": "stdout",
     "output_type": "stream",
     "text": [
      "1    a\n",
      "2    b\n",
      "3    c\n",
      "4    d\n",
      "dtype: object\n",
      "1    a\n",
      "2    n\n",
      "3    c\n",
      "4    d\n",
      "dtype: object\n",
      "0    1\n",
      "1    7\n",
      "2    8\n",
      "3    n\n",
      "dtype: object\n"
     ]
    }
   ],
   "source": [
    "_a = Series([\"a\",\"b\",\"c\",\"d\"],index=[1,2,3,4])\n",
    "print(_a)\n",
    "_a[2]=\"n\"\n",
    "print(_a)\n",
    "_b = _a.index\n",
    "# print(_b[3])\n",
    "# _b[3] = \"k\" this fails for simple reason that _b is still pointingf towards _a\n",
    "_b = Series([1,7,8,9])#when _b is constructed newly it doesn't points\n",
    "#the above reasoning is incomplete, _a.index when passed to other object, it becomes immutable\n",
    "_b[3]=\"n\"\n",
    "print(_b)\n"
   ]
  },
  {
   "cell_type": "code",
   "execution_count": 3,
   "metadata": {
    "collapsed": false
   },
   "outputs": [
    {
     "name": "stdout",
     "output_type": "stream",
     "text": [
      "[[ 1  2  3]\n",
      " [44 23 21]\n",
      " [76 33 90]]\n"
     ]
    },
    {
     "data": {
      "text/html": [
       "<div>\n",
       "<table border=\"1\" class=\"dataframe\">\n",
       "  <thead>\n",
       "    <tr style=\"text-align: right;\">\n",
       "      <th></th>\n",
       "      <th>a</th>\n",
       "      <th>b</th>\n",
       "      <th>d</th>\n",
       "    </tr>\n",
       "  </thead>\n",
       "  <tbody>\n",
       "    <tr>\n",
       "      <th>A</th>\n",
       "      <td>True</td>\n",
       "      <td>True</td>\n",
       "      <td>True</td>\n",
       "    </tr>\n",
       "    <tr>\n",
       "      <th>B</th>\n",
       "      <td>True</td>\n",
       "      <td>True</td>\n",
       "      <td>True</td>\n",
       "    </tr>\n",
       "    <tr>\n",
       "      <th>D</th>\n",
       "      <td>True</td>\n",
       "      <td>True</td>\n",
       "      <td>True</td>\n",
       "    </tr>\n",
       "  </tbody>\n",
       "</table>\n",
       "</div>"
      ],
      "text/plain": [
       "      a     b     d\n",
       "A  True  True  True\n",
       "B  True  True  True\n",
       "D  True  True  True"
      ]
     },
     "execution_count": 3,
     "metadata": {},
     "output_type": "execute_result"
    }
   ],
   "source": [
    "#reindexing\n",
    "\n",
    "# _b = _a #_b points towards _a\n",
    "# _b = _a.index #only index value is being pointed\n",
    "# _b = _a.reindex([11,12,13,14])#reindex creates different object\n",
    "# print(_b,end=\"\")\n",
    "_c = np.array([1,2,3,44,23,21,76,33,90])\n",
    "_d = _c.reshape((3,3))\n",
    "print(_d,end=\"\\n\")\n",
    "# _d.reindex(index=[\"A\",\"B\",\"C\"], columns=[\"a\",\"b\",\"c\"])****this is wrong way since it's not dataframe\n",
    "df = DataFrame(_d,index=[\"A\",\"B\",\"C\"], columns=[\"a\",\"b\",\"c\"])\n",
    "df=df.reindex(index=[\"A\",\"B\",\"C\",\"D\",\"E\"], columns=[\"a\",\"b\",\"c\",\"d\"])#when we use method to mutate the object, we must assign to a different object or itself\n",
    "df\n",
    "#shortcut of reindex is .ix[]\n",
    "df2 = DataFrame(df)\n",
    "df2 = df2.ix[[\"A\",\"B\",\"D\"],[\"a\",\"b\",\"d\"]]#when using ix, one parameter is index values, and another is columns\n",
    "_q = Series([\"23\",\"24\",\"25\"],index=[\"A\",\"B\",\"D\"])\n",
    "df2[\"d\"] = _q\n",
    "q = Series([\"23\",\"24\"],index=[\"a\",\"b\"])\n",
    "df2.ix[\"D\"]= q\n",
    "df2[\"d\"].ix[\"D\"]=34 #this is how we add individual values\n",
    "df2.ix[\"D\",\"d\"] = 50 #typical reindex way\n",
    "df2>20\n",
    "## boolean dataframe value,\n",
    "#df2>20 #the entery will show true or false\n",
    "#THe default indexing will be present, if index is named with string\n",
    "\n"
   ]
  },
  {
   "cell_type": "markdown",
   "metadata": {
    "collapsed": true
   },
   "source": [
    "## Drop from series or data frame\n",
    "we can use series_obj.drop(index_name)\n",
    "on data frame\n",
    "dataframe_obj.drop(indexname) if we want to drop  row\n",
    "but if we want to drop column, then\n",
    "dataframe_obj.drop(column_nmae, axis=1), axis = 0 refers horizontal, and 1 refers vertical"
   ]
  },
  {
   "cell_type": "markdown",
   "metadata": {
    "collapsed": true
   },
   "source": [
    "### pandas can add two or more series with same index, and If with unequal length of index then It will give NaN \n",
    "we can sort a series by index using method -->  series_obj.sort_index()\n",
    "we can sort by values using method --> series_obj.sort_values()\n",
    "ranking 0 is for lowest to biggest value as last rank using method series.rank()\n",
    "# Below are some methods perform on DataFrame\n"
   ]
  },
  {
   "cell_type": "code",
   "execution_count": 25,
   "metadata": {
    "collapsed": false
   },
   "outputs": [
    {
     "data": {
      "text/html": [
       "<div>\n",
       "<table border=\"1\" class=\"dataframe\">\n",
       "  <thead>\n",
       "    <tr style=\"text-align: right;\">\n",
       "      <th></th>\n",
       "      <th>A</th>\n",
       "      <th>B</th>\n",
       "      <th>C</th>\n",
       "    </tr>\n",
       "  </thead>\n",
       "  <tbody>\n",
       "    <tr>\n",
       "      <th>count</th>\n",
       "      <td>3.000000</td>\n",
       "      <td>3.0</td>\n",
       "      <td>3.000000</td>\n",
       "    </tr>\n",
       "    <tr>\n",
       "      <th>mean</th>\n",
       "      <td>4.666667</td>\n",
       "      <td>5.0</td>\n",
       "      <td>3.333333</td>\n",
       "    </tr>\n",
       "    <tr>\n",
       "      <th>std</th>\n",
       "      <td>4.041452</td>\n",
       "      <td>3.0</td>\n",
       "      <td>2.516611</td>\n",
       "    </tr>\n",
       "    <tr>\n",
       "      <th>min</th>\n",
       "      <td>1.000000</td>\n",
       "      <td>2.0</td>\n",
       "      <td>1.000000</td>\n",
       "    </tr>\n",
       "    <tr>\n",
       "      <th>25%</th>\n",
       "      <td>2.500000</td>\n",
       "      <td>3.5</td>\n",
       "      <td>2.000000</td>\n",
       "    </tr>\n",
       "    <tr>\n",
       "      <th>50%</th>\n",
       "      <td>4.000000</td>\n",
       "      <td>5.0</td>\n",
       "      <td>3.000000</td>\n",
       "    </tr>\n",
       "    <tr>\n",
       "      <th>75%</th>\n",
       "      <td>6.500000</td>\n",
       "      <td>6.5</td>\n",
       "      <td>4.500000</td>\n",
       "    </tr>\n",
       "    <tr>\n",
       "      <th>max</th>\n",
       "      <td>9.000000</td>\n",
       "      <td>8.0</td>\n",
       "      <td>6.000000</td>\n",
       "    </tr>\n",
       "  </tbody>\n",
       "</table>\n",
       "</div>"
      ],
      "text/plain": [
       "              A    B         C\n",
       "count  3.000000  3.0  3.000000\n",
       "mean   4.666667  5.0  3.333333\n",
       "std    4.041452  3.0  2.516611\n",
       "min    1.000000  2.0  1.000000\n",
       "25%    2.500000  3.5  2.000000\n",
       "50%    4.000000  5.0  3.000000\n",
       "75%    6.500000  6.5  4.500000\n",
       "max    9.000000  8.0  6.000000"
      ]
     },
     "execution_count": 25,
     "metadata": {},
     "output_type": "execute_result"
    }
   ],
   "source": [
    "_q1 = np.array([[1,2,3],[4,5,6],[9,8,1]])\n",
    "# print(_q1.sum()) when array or matrix is .sum() all values are added\n",
    "#but different in dataframe\n",
    "_df3 = DataFrame(_q1,columns=[\"A\",\"B\",\"C\"])\n",
    "_df3.sum() #by default it sums according to column or axis 0\n",
    "#we can show sum according to axis 1 or index\n",
    "_df3.sum(axis=1)\n",
    "_q1.min()\n",
    "# method .min() and max() are applicable on column like mentioned above\n",
    "#to find index of min value in column, we can use method .idxmin()\n",
    "_df3.idxmin()#it gives columna and index where min value lies, index can be repetitive but not column\n",
    "# method .cumsum() to calculate cumalative sum in column\n",
    "#cumlative sum is, a,a+b,a+b+c....\n",
    "_q2 = np.array([[\"a\",\"h\",\"c\"],[\"d\",\"e\",\"f\"],[\"d\",\"h\",\"i\"]])\n",
    "_df4 = DataFrame(_q2,columns=[\"A\",\"B\",\"C\"])\n",
    "_df4.describe()#even when elemnst are string it works, It describes every detail about that column\n",
    "_df4.cumsum()#even when elemnst are string it works\n",
    "_df4.sum()#even when elemnst are string it works\n",
    "#all methods which work on int element won't work on string, Values are not converted to ASCII\n",
    "_df3.describe()#count is number of element in that column\n"
   ]
  },
  {
   "cell_type": "code",
   "execution_count": 44,
   "metadata": {
    "collapsed": false
   },
   "outputs": [
    {
     "data": {
      "text/html": [
       "<div>\n",
       "<table border=\"1\" class=\"dataframe\">\n",
       "  <thead>\n",
       "    <tr style=\"text-align: right;\">\n",
       "      <th></th>\n",
       "      <th>A</th>\n",
       "      <th>B</th>\n",
       "      <th>C</th>\n",
       "      <th>D</th>\n",
       "    </tr>\n",
       "  </thead>\n",
       "  <tbody>\n",
       "    <tr>\n",
       "      <th>1</th>\n",
       "      <td>d</td>\n",
       "      <td>np.nan</td>\n",
       "      <td>f</td>\n",
       "      <td>66</td>\n",
       "    </tr>\n",
       "    <tr>\n",
       "      <th>2</th>\n",
       "      <td>d</td>\n",
       "      <td>nan</td>\n",
       "      <td>nan</td>\n",
       "      <td>66</td>\n",
       "    </tr>\n",
       "  </tbody>\n",
       "</table>\n",
       "</div>"
      ],
      "text/plain": [
       "   A       B    C   D\n",
       "1  d  np.nan    f  66\n",
       "2  d     nan  nan  66"
      ]
     },
     "execution_count": 44,
     "metadata": {},
     "output_type": "execute_result"
    }
   ],
   "source": [
    "#to find missing value location in a column we can ask df_obj.isnull()\n",
    "#To drop all NaN we can use df_obj.dropna() && dropna(how='all') to drop anrow with all NaN value\n",
    "_q5 = np.array([[\"a\",\"h\",np.nan],[\"d\",\"np.nan\",\"f\"],[\"d\",np.NaN,np.NaN]])\n",
    "df5=DataFrame(_q5,columns=[\"A\",\"B\",\"C\"])\n",
    "df5=df5.reindex(index=[1,2,3,4],columns=[\"A\",\"B\",\"C\",\"D\"])#couldn't get NaN, so used reindex\n",
    "df5=df5.dropna(thresh=2)#considers row not column\n",
    "df5.fillna(66)"
   ]
  },
  {
   "cell_type": "code",
   "execution_count": 39,
   "metadata": {
    "collapsed": false
   },
   "outputs": [
    {
     "data": {
      "text/html": [
       "<div>\n",
       "<table border=\"1\" class=\"dataframe\">\n",
       "  <thead>\n",
       "    <tr>\n",
       "      <th></th>\n",
       "      <th>string title</th>\n",
       "      <th colspan=\"2\" halign=\"left\">integers</th>\n",
       "      <th>string</th>\n",
       "    </tr>\n",
       "    <tr>\n",
       "      <th></th>\n",
       "      <th>integer title</th>\n",
       "      <th>0</th>\n",
       "      <th>1</th>\n",
       "      <th>3</th>\n",
       "    </tr>\n",
       "    <tr>\n",
       "      <th>ix2</th>\n",
       "      <th>ix1</th>\n",
       "      <th></th>\n",
       "      <th></th>\n",
       "      <th></th>\n",
       "    </tr>\n",
       "  </thead>\n",
       "  <tbody>\n",
       "    <tr>\n",
       "      <th>a</th>\n",
       "      <th>1</th>\n",
       "      <td>0</td>\n",
       "      <td>1</td>\n",
       "      <td>nil</td>\n",
       "    </tr>\n",
       "    <tr>\n",
       "      <th>b</th>\n",
       "      <th>1</th>\n",
       "      <td>3</td>\n",
       "      <td>4</td>\n",
       "      <td>es</td>\n",
       "    </tr>\n",
       "    <tr>\n",
       "      <th>a</th>\n",
       "      <th>2</th>\n",
       "      <td>6</td>\n",
       "      <td>7</td>\n",
       "      <td>h</td>\n",
       "    </tr>\n",
       "  </tbody>\n",
       "</table>\n",
       "</div>"
      ],
      "text/plain": [
       "string title  integers    string\n",
       "integer title        0  1      3\n",
       "ix2 ix1                         \n",
       "a   1                0  1    nil\n",
       "b   1                3  4     es\n",
       "a   2                6  7      h"
      ]
     },
     "execution_count": 39,
     "metadata": {},
     "output_type": "execute_result"
    }
   ],
   "source": [
    "#Multi-level index\n",
    "_q6 = np.arange(9)\n",
    "_s1 = Series(_q6,index=[[1,1,1,2,2,2,3,3,3],[\"a\",\"b\",\"c\",\"a\",\"b\",\"c\",\"a\",\"b\",\"c\"]])\n",
    "_s1\n",
    "_s1[1,\"c\"]#Series and other may have index as first\n",
    "_df6 = DataFrame(_s1, columns=[\"Number\"])\n",
    "_df6[\"Number\"].ix[:,\"b\"]#but dataframe have column or axis 0\n",
    "#Another way to dataframe, is converting multi-level series to dataframe using method  .unstack\n",
    "_df7 = _s1.unstack() #Notice above _df6 and _df7 are both dataframe, but different\n",
    "#_df7 is more like meshgrid matrix, rather traditional dataframe, but still dataframe\n",
    "_1q = np.array([\"nil\",\"es\",\"h\"])\n",
    "_df7[\"c\"] = _1q\n",
    "_df7\n",
    "#_df7 = _df7.ix[[[1,1,2],[\"a\",\"b\",\"a\"]],[[\"integers\",\"integers\",\"string\"],[0,1,3]]] \n",
    "_df7 = _df7.reindex(index=[[1,1,2],[\"a\",\"b\",\"a\"]],columns=[[\"integers\",\"integers\",\"string\"],[0,1,3]])\n",
    "#while reindexing care needs to be taken that the format of index isn't changed or values will be lost\n",
    "_df8 = DataFrame(_q6.reshape((3,3)),index=[[1,1,2],[\"a\",\"b\",\"a\"]],columns=[[\"integers\",\"integers\",\"string\"],[0,1,3]])\n",
    "_df8[\"string\"]=_1q\n",
    "_df8\n",
    "\n",
    "#what if we need to give title to the index or column\n",
    "_df8.index.names = [\"ix1\",\"ix2\"]\n",
    "_df8.columns.names = [\"string title\",\"integer title\"]\n",
    "_df8.swaplevel(\"string title\",\"integer title\",axis=1)\n",
    "#################################******swaplevel needs axis=1 along column, didn't understood\n",
    "_df8.swaplevel(\"ix1\",\"ix2\",axis=0)\n",
    "#######npt tested method on dataframe of multi level\n",
    "# .sortlevel(n) where n(- 0,1; 0 for outer level\n"
   ]
  },
  {
   "cell_type": "code",
   "execution_count": null,
   "metadata": {
    "collapsed": true
   },
   "outputs": [],
   "source": []
  },
  {
   "cell_type": "code",
   "execution_count": null,
   "metadata": {
    "collapsed": true
   },
   "outputs": [],
   "source": []
  }
 ],
 "metadata": {
  "kernelspec": {
   "display_name": "Python 3",
   "language": "python",
   "name": "python3"
  },
  "language_info": {
   "codemirror_mode": {
    "name": "ipython",
    "version": 3
   },
   "file_extension": ".py",
   "mimetype": "text/x-python",
   "name": "python",
   "nbconvert_exporter": "python",
   "pygments_lexer": "ipython3",
   "version": "3.6.0"
  }
 },
 "nbformat": 4,
 "nbformat_minor": 2
}
